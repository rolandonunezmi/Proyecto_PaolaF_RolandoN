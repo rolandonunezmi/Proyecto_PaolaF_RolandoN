{
 "cells": [
  {
   "cell_type": "code",
   "execution_count": null,
   "metadata": {},
   "outputs": [],
   "source": [
    "import random\n",
    "\n",
    "cara = 0\n",
    "sello = 0\n",
    "   \n",
    "for i in range(1000) :\n",
    "        lanz =random.randint(0,1)\n",
    "            \n",
    "        if  lanz==0:           #CADA CARA KE KAIGA SE SUMA 1 CON EL +=1\n",
    "            cara += 1    \n",
    "        \n",
    "        else:\n",
    "            sello += 1\n",
    "            \n",
    "print(\"caras %i.\" % cara)\n",
    "print(\"sellos %i.\" % sello)"
   ]
  },
  {
   "cell_type": "code",
   "execution_count": null,
   "metadata": {},
   "outputs": [],
   "source": [
    "import numpy as np\n",
    "# Sea 0 cara y 1 sello\n",
    "tg = []\n",
    "for i in range(1000):\n",
    "    c = 0\n",
    "    s = 0\n",
    "    t = 0\n",
    "    while abs(s-c) != 3:\n",
    "        x = np.random.randint(0,2)\n",
    "        if x == 0:\n",
    "            c += 1\n",
    "        else:\n",
    "            s += 1\n",
    "        t += 1\n",
    "    tg.append(t)\n",
    "    i+=1            \n",
    "    \n",
    "    # Pregunta a\n",
    "print('La media de los tiros necesarios para ganar es:',np.mean(tg))\n",
    "print('La desv std de los tiros ganadores es:',np.std(tg))\n",
    "import matplotlib.pyplot as plt\n",
    "%matplotlib inline\n",
    "plt.hist(tg,25,alpha=0.7,normed = True)\n",
    "plt.grid()\n",
    "plt.xlabel('Tiros ganadores')\n",
    "plt.show()"
   ]
  }
 ],
 "metadata": {
  "kernelspec": {
   "display_name": "Python 3",
   "language": "python",
   "name": "python3"
  },
  "language_info": {
   "codemirror_mode": {
    "name": "ipython",
    "version": 3
   },
   "file_extension": ".py",
   "mimetype": "text/x-python",
   "name": "python",
   "nbconvert_exporter": "python",
   "pygments_lexer": "ipython3",
   "version": "3.6.3"
  }
 },
 "nbformat": 4,
 "nbformat_minor": 2
}
