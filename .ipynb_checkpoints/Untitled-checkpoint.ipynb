{
 "cells": [
  {
   "cell_type": "code",
   "execution_count": 20,
   "metadata": {},
   "outputs": [
    {
     "name": "stdout",
     "output_type": "stream",
     "text": [
      "caras 525.\n",
      "sellos 475.\n"
     ]
    }
   ],
   "source": [
    "import random\n",
    "\n",
    "cara = 0\n",
    "sello = 0\n",
    "   \n",
    "for i in range(0, 1000):\n",
    "        lanz =random.randint(0,1)\n",
    "            \n",
    "        if  lanz==0:           #CADA CARA KE KAIGA SE SUMA 1 CON EL +=1\n",
    "            cara += 1    \n",
    "        \n",
    "        else:\n",
    "            sello += 1\n",
    "            \n",
    "print(\"caras %i.\" % cara)\n",
    "print(\"sellos %i.\" % sello)"
   ]
  }
 ],
 "metadata": {
  "kernelspec": {
   "display_name": "Python 3",
   "language": "python",
   "name": "python3"
  },
  "language_info": {
   "codemirror_mode": {
    "name": "ipython",
    "version": 3
   },
   "file_extension": ".py",
   "mimetype": "text/x-python",
   "name": "python",
   "nbconvert_exporter": "python",
   "pygments_lexer": "ipython3",
   "version": "3.6.3"
  }
 },
 "nbformat": 4,
 "nbformat_minor": 2
}
