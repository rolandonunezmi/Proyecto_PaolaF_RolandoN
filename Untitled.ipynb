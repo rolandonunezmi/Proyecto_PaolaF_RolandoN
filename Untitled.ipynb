{
 "cells": [
  {
   "cell_type": "code",
   "execution_count": 14,
   "metadata": {},
   "outputs": [
    {
     "ename": "IndentationError",
     "evalue": "unindent does not match any outer indentation level (<tokenize>, line 15)",
     "output_type": "error",
     "traceback": [
      "\u001b[1;36m  File \u001b[1;32m\"<tokenize>\"\u001b[1;36m, line \u001b[1;32m15\u001b[0m\n\u001b[1;33m    print(\"caras %i.\" % cara)\u001b[0m\n\u001b[1;37m    ^\u001b[0m\n\u001b[1;31mIndentationError\u001b[0m\u001b[1;31m:\u001b[0m unindent does not match any outer indentation level\n"
     ]
    }
   ],
   "source": [
    "import random\n",
    "\n",
    "cara = 0\n",
    "sello = 0\n",
    "   \n",
    "for i in range(0, 1000):\n",
    "        lanz =random.randint(0,1)\n",
    "            \n",
    "        if  lanz==0:           #CADA CARA KE KAIGA SE SUMA 1 CON EL +=1\n",
    "            cara += 1    \n",
    "        \n",
    "        else:\n",
    "            sello += 1\n",
    "            \n",
    "    print(\"caras %i.\" % cara)\n",
    "    print(\"caras %i.\" % sello)"
   ]
  }
 ],
 "metadata": {
  "kernelspec": {
   "display_name": "Python 3",
   "language": "python",
   "name": "python3"
  },
  "language_info": {
   "codemirror_mode": {
    "name": "ipython",
    "version": 3
   },
   "file_extension": ".py",
   "mimetype": "text/x-python",
   "name": "python",
   "nbconvert_exporter": "python",
   "pygments_lexer": "ipython3",
   "version": "3.6.3"
  }
 },
 "nbformat": 4,
 "nbformat_minor": 2
}
