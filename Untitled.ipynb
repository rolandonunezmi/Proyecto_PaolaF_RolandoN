{
 "cells": [
  {
   "cell_type": "code",
   "execution_count": null,
   "metadata": {
    "collapsed": true
   },
   "outputs": [],
   "source": [
    "  import numpy as np\n",
    "    import random\n",
    "    cara = 0\n",
    "    sello = 0\n",
    "   \n",
    "    for i in range(0,100):\n",
    "        lanz =random.randint(0,1)\n",
    "        print(lanz)\n",
    "            \\n\"\n",
    "        if  lanz==0:           #CADA CARA KE KAIGA SE SUMA 1 CON EL +=1\n",
    "            cara += 1    \n",
    "        \n",
    "        else:\n",
    "            sello += 1\n",
    "            \n",
    "    print(\\\"caras %i.\\\"%cara)\n",
    "    print(\\\"caras %i.\\\"%sello)"
   ]
  }
 ],
 "metadata": {
  "kernelspec": {
   "display_name": "Python 3",
   "language": "python",
   "name": "python3"
  },
  "language_info": {
   "codemirror_mode": {
    "name": "ipython",
    "version": 3
   },
   "file_extension": ".py",
   "mimetype": "text/x-python",
   "name": "python",
   "nbconvert_exporter": "python",
   "pygments_lexer": "ipython3",
   "version": "3.6.3"
  }
 },
 "nbformat": 4,
 "nbformat_minor": 2
}
